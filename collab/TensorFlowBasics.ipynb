{
  "nbformat": 4,
  "nbformat_minor": 0,
  "metadata": {
    "colab": {
      "provenance": [],
      "authorship_tag": "ABX9TyNOWQhDbZgnBkFKkZScOd4s",
      "include_colab_link": true
    },
    "kernelspec": {
      "name": "python3",
      "display_name": "Python 3"
    },
    "language_info": {
      "name": "python"
    }
  },
  "cells": [
    {
      "cell_type": "markdown",
      "metadata": {
        "id": "view-in-github",
        "colab_type": "text"
      },
      "source": [
        "<a href=\"https://colab.research.google.com/github/KaosElegent/tensorflow-fun/blob/main/collab/TensorFlowBasics.ipynb\" target=\"_parent\"><img src=\"https://colab.research.google.com/assets/colab-badge.svg\" alt=\"Open In Colab\"/></a>"
      ]
    },
    {
      "cell_type": "code",
      "execution_count": 1,
      "metadata": {
        "colab": {
          "base_uri": "https://localhost:8080/"
        },
        "id": "HMGdu0MWPIk0",
        "outputId": "75b93d9d-af0f-4e31-fe33-ce63b31fbb7e"
      },
      "outputs": [
        {
          "output_type": "stream",
          "name": "stdout",
          "text": [
            "2.15.0\n"
          ]
        }
      ],
      "source": [
        "import tensorflow as tf\n",
        "print(tf.__version__)"
      ]
    },
    {
      "cell_type": "code",
      "source": [
        "scalar = tf.constant(7)\n",
        "print(scalar)\n",
        "print(scalar.ndim)"
      ],
      "metadata": {
        "colab": {
          "base_uri": "https://localhost:8080/"
        },
        "id": "lqNRpV5PP6gp",
        "outputId": "ef50a225-16a9-41da-cc16-bb9cb63d78d2"
      },
      "execution_count": 2,
      "outputs": [
        {
          "output_type": "stream",
          "name": "stdout",
          "text": [
            "tf.Tensor(7, shape=(), dtype=int32)\n",
            "0\n"
          ]
        }
      ]
    },
    {
      "cell_type": "code",
      "source": [
        "vector = tf.constant([10,10])\n",
        "print(vector)\n",
        "print(vector.ndim)"
      ],
      "metadata": {
        "colab": {
          "base_uri": "https://localhost:8080/"
        },
        "id": "Oih1VILWQE7W",
        "outputId": "d0c05c97-1c88-4f55-c229-e83b042a50a1"
      },
      "execution_count": 3,
      "outputs": [
        {
          "output_type": "stream",
          "name": "stdout",
          "text": [
            "tf.Tensor([10 10], shape=(2,), dtype=int32)\n",
            "1\n"
          ]
        }
      ]
    },
    {
      "cell_type": "code",
      "source": [
        "matrix = tf.constant([\n",
        "    [10,11],\n",
        "    [12,13]\n",
        "])\n",
        "print(matrix)\n",
        "print(matrix.ndim)"
      ],
      "metadata": {
        "colab": {
          "base_uri": "https://localhost:8080/"
        },
        "id": "rrLQ9-s9RJ2F",
        "outputId": "9746b7b4-2fda-4e3e-da9c-238aa4543f5d"
      },
      "execution_count": 4,
      "outputs": [
        {
          "output_type": "stream",
          "name": "stdout",
          "text": [
            "tf.Tensor(\n",
            "[[10 11]\n",
            " [12 13]], shape=(2, 2), dtype=int32)\n",
            "2\n"
          ]
        }
      ]
    },
    {
      "cell_type": "markdown",
      "source": [
        "Matrix with a custom datatype"
      ],
      "metadata": {
        "id": "HNH4H9xWRTNM"
      }
    },
    {
      "cell_type": "code",
      "source": [
        "matrix = tf.constant([\n",
        "    [10,11],\n",
        "    [12,13]\n",
        "],dtype='float32')\n",
        "print(matrix)\n",
        "print(matrix.ndim)"
      ],
      "metadata": {
        "colab": {
          "base_uri": "https://localhost:8080/"
        },
        "id": "gekO9vGWQPkb",
        "outputId": "39561532-9696-4096-9907-4f1617c0fb24"
      },
      "execution_count": 5,
      "outputs": [
        {
          "output_type": "stream",
          "name": "stdout",
          "text": [
            "tf.Tensor(\n",
            "[[10. 11.]\n",
            " [12. 13.]], shape=(2, 2), dtype=float32)\n",
            "2\n"
          ]
        }
      ]
    },
    {
      "cell_type": "code",
      "source": [
        "tensor = tf.constant([\n",
        "    [\n",
        "      [1,2,3]\n",
        "    ],\n",
        "    [\n",
        "      [4,5,6],\n",
        "    ],\n",
        "    [\n",
        "      [7,8,9]\n",
        "    ]\n",
        "\n",
        "])\n",
        "print(tensor)\n",
        "print(tensor.ndim)\n",
        "print(tensor.shape)"
      ],
      "metadata": {
        "colab": {
          "base_uri": "https://localhost:8080/"
        },
        "id": "L12mt-D2RR_V",
        "outputId": "0b99a756-0152-4606-89e7-e71d5f271fba"
      },
      "execution_count": 6,
      "outputs": [
        {
          "output_type": "stream",
          "name": "stdout",
          "text": [
            "tf.Tensor(\n",
            "[[[1 2 3]]\n",
            "\n",
            " [[4 5 6]]\n",
            "\n",
            " [[7 8 9]]], shape=(3, 1, 3), dtype=int32)\n",
            "3\n",
            "(3, 1, 3)\n"
          ]
        }
      ]
    },
    {
      "cell_type": "markdown",
      "source": [
        "Generating Tensors"
      ],
      "metadata": {
        "id": "MKLMj_UiUjBK"
      }
    },
    {
      "cell_type": "code",
      "source": [
        "seed = tf.random.Generator.from_seed(42) #creating a generator object"
      ],
      "metadata": {
        "id": "1_Ozp-pHUip2"
      },
      "execution_count": 7,
      "outputs": []
    },
    {
      "cell_type": "code",
      "source": [
        "normal_distribution_tensor = seed.normal(shape=(3,2))\n",
        "uniform_distribution_tensor = seed.uniform(shape=(3,2))\n",
        "print(normal_distribution_tensor) #normal distribution of random numbers\n",
        "print(uniform_distribution_tensor) #uniform distribution of random numbers"
      ],
      "metadata": {
        "colab": {
          "base_uri": "https://localhost:8080/"
        },
        "id": "W0c7TO0QVDnP",
        "outputId": "4a4fd56a-41ce-44a1-d6cc-48a29210ea47"
      },
      "execution_count": 8,
      "outputs": [
        {
          "output_type": "stream",
          "name": "stdout",
          "text": [
            "tf.Tensor(\n",
            "[[-0.7565803  -0.06854702]\n",
            " [ 0.07595026 -1.2573844 ]\n",
            " [-0.23193763 -1.8107855 ]], shape=(3, 2), dtype=float32)\n",
            "tf.Tensor(\n",
            "[[0.7647915  0.03845465]\n",
            " [0.8506975  0.20781887]\n",
            " [0.711869   0.8843919 ]], shape=(3, 2), dtype=float32)\n"
          ]
        }
      ]
    },
    {
      "cell_type": "code",
      "source": [
        "# tensors of xeros or ones are usually used as a starting point\n",
        "zeros = tf.zeros(shape=(3,2))\n",
        "ones = tf.ones(shape=(3,2))\n",
        "\n",
        "print(zeros)\n",
        "print(ones)"
      ],
      "metadata": {
        "colab": {
          "base_uri": "https://localhost:8080/"
        },
        "id": "ku86kuxuW-u9",
        "outputId": "7cb36978-e333-4893-bab3-920c75f16d65"
      },
      "execution_count": 9,
      "outputs": [
        {
          "output_type": "stream",
          "name": "stdout",
          "text": [
            "tf.Tensor(\n",
            "[[0. 0.]\n",
            " [0. 0.]\n",
            " [0. 0.]], shape=(3, 2), dtype=float32)\n",
            "tf.Tensor(\n",
            "[[1. 1.]\n",
            " [1. 1.]\n",
            " [1. 1.]], shape=(3, 2), dtype=float32)\n"
          ]
        }
      ]
    },
    {
      "cell_type": "code",
      "source": [
        "import numpy as np"
      ],
      "metadata": {
        "id": "uzeGXRgcX0iZ"
      },
      "execution_count": 10,
      "outputs": []
    },
    {
      "cell_type": "code",
      "source": [
        "numpy_arr = np.arange(1,25,dtype=np.int32)\n",
        "print(numpy_arr)"
      ],
      "metadata": {
        "colab": {
          "base_uri": "https://localhost:8080/"
        },
        "id": "bxTGLz_BX3df",
        "outputId": "8a7432a7-82f5-4f9a-c94f-0cf31b15272a"
      },
      "execution_count": 11,
      "outputs": [
        {
          "output_type": "stream",
          "name": "stdout",
          "text": [
            "[ 1  2  3  4  5  6  7  8  9 10 11 12 13 14 15 16 17 18 19 20 21 22 23 24]\n"
          ]
        }
      ]
    },
    {
      "cell_type": "code",
      "source": [
        "numpy_tensor = tf.constant(numpy_arr,shape=[2,4,3])\n",
        "print(numpy_tensor)"
      ],
      "metadata": {
        "colab": {
          "base_uri": "https://localhost:8080/"
        },
        "id": "mGzKSxV-YLnj",
        "outputId": "a97fefbe-0396-4861-e323-afc33e44780c"
      },
      "execution_count": 12,
      "outputs": [
        {
          "output_type": "stream",
          "name": "stdout",
          "text": [
            "tf.Tensor(\n",
            "[[[ 1  2  3]\n",
            "  [ 4  5  6]\n",
            "  [ 7  8  9]\n",
            "  [10 11 12]]\n",
            "\n",
            " [[13 14 15]\n",
            "  [16 17 18]\n",
            "  [19 20 21]\n",
            "  [22 23 24]]], shape=(2, 4, 3), dtype=int32)\n"
          ]
        }
      ]
    },
    {
      "cell_type": "markdown",
      "source": [
        "Operations on Tensors\n"
      ],
      "metadata": {
        "id": "5-SKB5wnZcNA"
      }
    },
    {
      "cell_type": "code",
      "source": [
        "rank4_tensor = tf.zeros([2,3,4,5])\n",
        "print(rank4_tensor)"
      ],
      "metadata": {
        "colab": {
          "base_uri": "https://localhost:8080/"
        },
        "id": "p9bDMXv8ZeNK",
        "outputId": "f0855f9d-4c62-49bd-c266-7a1cef58a89d"
      },
      "execution_count": 13,
      "outputs": [
        {
          "output_type": "stream",
          "name": "stdout",
          "text": [
            "tf.Tensor(\n",
            "[[[[0. 0. 0. 0. 0.]\n",
            "   [0. 0. 0. 0. 0.]\n",
            "   [0. 0. 0. 0. 0.]\n",
            "   [0. 0. 0. 0. 0.]]\n",
            "\n",
            "  [[0. 0. 0. 0. 0.]\n",
            "   [0. 0. 0. 0. 0.]\n",
            "   [0. 0. 0. 0. 0.]\n",
            "   [0. 0. 0. 0. 0.]]\n",
            "\n",
            "  [[0. 0. 0. 0. 0.]\n",
            "   [0. 0. 0. 0. 0.]\n",
            "   [0. 0. 0. 0. 0.]\n",
            "   [0. 0. 0. 0. 0.]]]\n",
            "\n",
            "\n",
            " [[[0. 0. 0. 0. 0.]\n",
            "   [0. 0. 0. 0. 0.]\n",
            "   [0. 0. 0. 0. 0.]\n",
            "   [0. 0. 0. 0. 0.]]\n",
            "\n",
            "  [[0. 0. 0. 0. 0.]\n",
            "   [0. 0. 0. 0. 0.]\n",
            "   [0. 0. 0. 0. 0.]\n",
            "   [0. 0. 0. 0. 0.]]\n",
            "\n",
            "  [[0. 0. 0. 0. 0.]\n",
            "   [0. 0. 0. 0. 0.]\n",
            "   [0. 0. 0. 0. 0.]\n",
            "   [0. 0. 0. 0. 0.]]]], shape=(2, 3, 4, 5), dtype=float32)\n"
          ]
        }
      ]
    },
    {
      "cell_type": "code",
      "source": [
        "print(\"Size: \", tf.size(rank4_tensor))\n",
        "print(\"Shape: \", rank4_tensor.shape)\n",
        "print(\"Dimension: \", rank4_tensor.ndim)"
      ],
      "metadata": {
        "colab": {
          "base_uri": "https://localhost:8080/"
        },
        "id": "q8Gc6mcNaFuT",
        "outputId": "aae17513-28f6-442f-ae09-226e585477e7"
      },
      "execution_count": 14,
      "outputs": [
        {
          "output_type": "stream",
          "name": "stdout",
          "text": [
            "Size:  tf.Tensor(120, shape=(), dtype=int32)\n",
            "Shape:  (2, 3, 4, 5)\n",
            "Dimension:  4\n"
          ]
        }
      ]
    },
    {
      "cell_type": "code",
      "source": [
        "basic_tensor = tf.constant([\n",
        "    [10,11],\n",
        "    [12,13]\n",
        "])\n",
        "print(basic_tensor)"
      ],
      "metadata": {
        "colab": {
          "base_uri": "https://localhost:8080/"
        },
        "id": "3hWnlrigCxjY",
        "outputId": "daf13d76-df02-498a-a6ca-99719e14c9e0"
      },
      "execution_count": 15,
      "outputs": [
        {
          "output_type": "stream",
          "name": "stdout",
          "text": [
            "tf.Tensor(\n",
            "[[10 11]\n",
            " [12 13]], shape=(2, 2), dtype=int32)\n"
          ]
        }
      ]
    },
    {
      "cell_type": "code",
      "source": [
        "print(basic_tensor + 10)\n",
        "print(basic_tensor - 10)\n",
        "print(basic_tensor * 10)\n",
        "print(basic_tensor / 10)"
      ],
      "metadata": {
        "colab": {
          "base_uri": "https://localhost:8080/"
        },
        "id": "GmLPk3pODDTl",
        "outputId": "cb4f03cb-3444-4420-f96c-812fdd1950bd"
      },
      "execution_count": 16,
      "outputs": [
        {
          "output_type": "stream",
          "name": "stdout",
          "text": [
            "tf.Tensor(\n",
            "[[20 21]\n",
            " [22 23]], shape=(2, 2), dtype=int32)\n",
            "tf.Tensor(\n",
            "[[0 1]\n",
            " [2 3]], shape=(2, 2), dtype=int32)\n",
            "tf.Tensor(\n",
            "[[100 110]\n",
            " [120 130]], shape=(2, 2), dtype=int32)\n",
            "tf.Tensor(\n",
            "[[1.  1.1]\n",
            " [1.2 1.3]], shape=(2, 2), dtype=float64)\n"
          ]
        }
      ]
    },
    {
      "cell_type": "markdown",
      "source": [
        "Matrix Multiplication\n",
        "\n",
        "https://www.mathsisfun.com/algebra/matrix-multiplying.html"
      ],
      "metadata": {
        "id": "m_7wMS6tDP18"
      }
    },
    {
      "cell_type": "code",
      "source": [
        "# row, columns\n",
        "# 2,3 * 3,2 will give a matrix of 2,2\n",
        "matrix_1 = tf.constant([\n",
        "    [1,2,3],\n",
        "    [4,5,6]\n",
        "])\n",
        "\n",
        "matrix_2 = tf.constant([\n",
        "    [7,8],\n",
        "    [9,10],\n",
        "    [11,12]\n",
        "])\n",
        "\n",
        "print(matrix_1)\n",
        "print(matrix_2)\n",
        "print(tf.matmul(matrix_1,matrix_2))\n"
      ],
      "metadata": {
        "colab": {
          "base_uri": "https://localhost:8080/"
        },
        "id": "KzG1uSFtDRqH",
        "outputId": "e285a7bf-df11-4cf4-f6c5-ba321aab3997"
      },
      "execution_count": 22,
      "outputs": [
        {
          "output_type": "stream",
          "name": "stdout",
          "text": [
            "tf.Tensor(\n",
            "[[1 2 3]\n",
            " [4 5 6]], shape=(2, 3), dtype=int32)\n",
            "tf.Tensor(\n",
            "[[ 7  8]\n",
            " [ 9 10]\n",
            " [11 12]], shape=(3, 2), dtype=int32)\n",
            "tf.Tensor(\n",
            "[[ 58  64]\n",
            " [139 154]], shape=(2, 2), dtype=int32)\n"
          ]
        }
      ]
    },
    {
      "cell_type": "markdown",
      "source": [
        "Reshaping & Transposing\n"
      ],
      "metadata": {
        "id": "XNNQFeFfFJDg"
      }
    },
    {
      "cell_type": "code",
      "source": [
        "print(tf.reshape(matrix_1,[6]))\n",
        "print(tf.reshape(matrix_1,[6,1]))\n",
        "\n",
        "print(tf.transpose(matrix_1))"
      ],
      "metadata": {
        "colab": {
          "base_uri": "https://localhost:8080/"
        },
        "id": "R2NWgsC9FNCH",
        "outputId": "f4e6d2e3-c195-435b-e21c-74f8e4580f3a"
      },
      "execution_count": 21,
      "outputs": [
        {
          "output_type": "stream",
          "name": "stdout",
          "text": [
            "tf.Tensor([1 2 3 4 5 6], shape=(6,), dtype=int32)\n",
            "tf.Tensor(\n",
            "[[1]\n",
            " [2]\n",
            " [3]\n",
            " [4]\n",
            " [5]\n",
            " [6]], shape=(6, 1), dtype=int32)\n",
            "tf.Tensor(\n",
            "[[1 4]\n",
            " [2 5]\n",
            " [3 6]], shape=(3, 2), dtype=int32)\n"
          ]
        }
      ]
    },
    {
      "cell_type": "markdown",
      "source": [
        "Aggregate Operations"
      ],
      "metadata": {
        "id": "rQ1CyPlyGoJG"
      }
    },
    {
      "cell_type": "code",
      "source": [
        "tensor = tf.constant([\n",
        "    [1,2,3],\n",
        "    [4,5,6],\n",
        "    [7,8,9]\n",
        "], dtype='float32')\n",
        "\n",
        "print(tf.reduce_min(tensor))\n",
        "print(tf.reduce_max(tensor))\n",
        "print(tf.reduce_sum(tensor))"
      ],
      "metadata": {
        "colab": {
          "base_uri": "https://localhost:8080/"
        },
        "id": "chzFd09UGtHN",
        "outputId": "4ba1916c-8f82-4114-8382-3d7a7daa80c4"
      },
      "execution_count": 28,
      "outputs": [
        {
          "output_type": "stream",
          "name": "stdout",
          "text": [
            "tf.Tensor(1.0, shape=(), dtype=float32)\n",
            "tf.Tensor(9.0, shape=(), dtype=float32)\n",
            "tf.Tensor(45.0, shape=(), dtype=float32)\n"
          ]
        }
      ]
    },
    {
      "cell_type": "markdown",
      "source": [
        "Standard Deviation & Variance\n",
        "\n",
        "[x,y,z]\n",
        "\n",
        "mean = (x+y+z)/3\n",
        "\n",
        "variance = [ (x-mean)^2 + (y-mean)^2 + (z-mean)^2 ] / 3\n",
        "\n",
        "standard deviation = root(variance)"
      ],
      "metadata": {
        "id": "GupoC6XSHLWY"
      }
    },
    {
      "cell_type": "code",
      "source": [
        "print(tf.math.reduce_std(tensor))\n",
        "print(tf.math.reduce_variance(tensor))"
      ],
      "metadata": {
        "colab": {
          "base_uri": "https://localhost:8080/"
        },
        "id": "LHHFl5WrMJ63",
        "outputId": "72445e11-d101-4938-eb0c-46022c6b84cf"
      },
      "execution_count": 29,
      "outputs": [
        {
          "output_type": "stream",
          "name": "stdout",
          "text": [
            "tf.Tensor(2.5819888, shape=(), dtype=float32)\n",
            "tf.Tensor(6.6666665, shape=(), dtype=float32)\n"
          ]
        }
      ]
    },
    {
      "cell_type": "markdown",
      "source": [
        "extra operations\n"
      ],
      "metadata": {
        "id": "nDSoFz3vPYh2"
      }
    },
    {
      "cell_type": "code",
      "source": [
        "print(tf.sqrt(tensor))\n",
        "print(tf.square(tensor))\n",
        "print(tf.math.log(tensor))"
      ],
      "metadata": {
        "colab": {
          "base_uri": "https://localhost:8080/"
        },
        "id": "lEpXsvugPbBP",
        "outputId": "583afaf9-fa69-4491-8faa-5811d5dd00ea"
      },
      "execution_count": 30,
      "outputs": [
        {
          "output_type": "stream",
          "name": "stdout",
          "text": [
            "tf.Tensor(\n",
            "[[1.        1.4142135 1.7320508]\n",
            " [2.        2.236068  2.4494898]\n",
            " [2.6457512 2.828427  3.       ]], shape=(3, 3), dtype=float32)\n",
            "tf.Tensor(\n",
            "[[ 1.  4.  9.]\n",
            " [16. 25. 36.]\n",
            " [49. 64. 81.]], shape=(3, 3), dtype=float32)\n",
            "tf.Tensor(\n",
            "[[0.        0.6931472 1.0986123]\n",
            " [1.3862944 1.609438  1.7917595]\n",
            " [1.9459102 2.0794415 2.1972246]], shape=(3, 3), dtype=float32)\n"
          ]
        }
      ]
    }
  ]
}